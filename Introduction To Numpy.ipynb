{
  "nbformat": 4,
  "nbformat_minor": 0,
  "metadata": {
    "colab": {
      "provenance": []
    },
    "kernelspec": {
      "name": "python3",
      "display_name": "Python 3"
    },
    "language_info": {
      "name": "python"
    }
  },
  "cells": [
    {
      "cell_type": "code",
      "execution_count": 1,
      "metadata": {
        "id": "moAVH_n2dRpE"
      },
      "outputs": [],
      "source": [
        "import numpy as np"
      ]
    },
    {
      "cell_type": "markdown",
      "source": [
        "# **DataTypes & Attributes**"
      ],
      "metadata": {
        "id": "uc2PUffaeGoB"
      }
    },
    {
      "cell_type": "code",
      "source": [
        "a1 = np.array([1, 2, 3])\n",
        "a1"
      ],
      "metadata": {
        "colab": {
          "base_uri": "https://localhost:8080/"
        },
        "id": "iZwhg8i2eKN1",
        "outputId": "c63d9413-6bf6-4a14-b800-b05cda042eb5"
      },
      "execution_count": 2,
      "outputs": [
        {
          "output_type": "execute_result",
          "data": {
            "text/plain": [
              "array([1, 2, 3])"
            ]
          },
          "metadata": {},
          "execution_count": 2
        }
      ]
    },
    {
      "cell_type": "code",
      "source": [
        "type(a1)"
      ],
      "metadata": {
        "colab": {
          "base_uri": "https://localhost:8080/"
        },
        "id": "t45pSC9QeVdV",
        "outputId": "ac5f8ce5-d8be-4cea-fc0a-6b4b1f00479d"
      },
      "execution_count": 3,
      "outputs": [
        {
          "output_type": "execute_result",
          "data": {
            "text/plain": [
              "numpy.ndarray"
            ]
          },
          "metadata": {},
          "execution_count": 3
        }
      ]
    },
    {
      "cell_type": "code",
      "source": [
        "a2 = np.array([[1, 2, 3],\n",
        "              [6., 2., 3.]])\n",
        "\n",
        "a3 = np.array([[[1, 2, 3],\n",
        "                [4, 5, 6]],\n",
        "               [[7, 8, 9],\n",
        "                [10, 11, 12]],\n",
        "               [[13, 14, 15],\n",
        "                [16, 17, 18]]])"
      ],
      "metadata": {
        "id": "11Uz9r7deZnd"
      },
      "execution_count": 4,
      "outputs": []
    },
    {
      "cell_type": "code",
      "source": [
        "a1.shape"
      ],
      "metadata": {
        "colab": {
          "base_uri": "https://localhost:8080/"
        },
        "id": "ZtcwuU30egAT",
        "outputId": "b72ba6bb-16a6-406b-aee8-71e2893ac5e4"
      },
      "execution_count": 5,
      "outputs": [
        {
          "output_type": "execute_result",
          "data": {
            "text/plain": [
              "(3,)"
            ]
          },
          "metadata": {},
          "execution_count": 5
        }
      ]
    },
    {
      "cell_type": "code",
      "source": [
        "a2.shape"
      ],
      "metadata": {
        "colab": {
          "base_uri": "https://localhost:8080/"
        },
        "id": "WP1zx0BbfTSK",
        "outputId": "ccb3659f-6151-493e-db48-c3d42f58fec7"
      },
      "execution_count": 6,
      "outputs": [
        {
          "output_type": "execute_result",
          "data": {
            "text/plain": [
              "(2, 3)"
            ]
          },
          "metadata": {},
          "execution_count": 6
        }
      ]
    },
    {
      "cell_type": "code",
      "source": [
        "a3.shape"
      ],
      "metadata": {
        "colab": {
          "base_uri": "https://localhost:8080/"
        },
        "id": "q2jOcb1CfbX6",
        "outputId": "3a9ab3a3-15f5-491f-d10d-92b9298a3e7e"
      },
      "execution_count": 7,
      "outputs": [
        {
          "output_type": "execute_result",
          "data": {
            "text/plain": [
              "(3, 2, 3)"
            ]
          },
          "metadata": {},
          "execution_count": 7
        }
      ]
    },
    {
      "cell_type": "code",
      "source": [
        "a1.ndim, a2.ndim, a3.ndim"
      ],
      "metadata": {
        "colab": {
          "base_uri": "https://localhost:8080/"
        },
        "id": "VxSqiHNOg5BT",
        "outputId": "84b89ffb-5e13-4878-b4ce-6563b5816417"
      },
      "execution_count": 8,
      "outputs": [
        {
          "output_type": "execute_result",
          "data": {
            "text/plain": [
              "(1, 2, 3)"
            ]
          },
          "metadata": {},
          "execution_count": 8
        }
      ]
    },
    {
      "cell_type": "code",
      "source": [
        "a1.dtype, a2.dtype, a3.dtype"
      ],
      "metadata": {
        "id": "GgX9PQ9Fg_CA",
        "colab": {
          "base_uri": "https://localhost:8080/"
        },
        "outputId": "af6a12ea-52b4-43f4-eeab-ec54722d583b"
      },
      "execution_count": 9,
      "outputs": [
        {
          "output_type": "execute_result",
          "data": {
            "text/plain": [
              "(dtype('int64'), dtype('float64'), dtype('int64'))"
            ]
          },
          "metadata": {},
          "execution_count": 9
        }
      ]
    },
    {
      "cell_type": "code",
      "source": [
        "a1.size, a2.size, a3.size"
      ],
      "metadata": {
        "colab": {
          "base_uri": "https://localhost:8080/"
        },
        "id": "wU9LbORUg_PC",
        "outputId": "db45f56b-f9ce-4473-a639-d3b9050a8a12"
      },
      "execution_count": 10,
      "outputs": [
        {
          "output_type": "execute_result",
          "data": {
            "text/plain": [
              "(3, 6, 18)"
            ]
          },
          "metadata": {},
          "execution_count": 10
        }
      ]
    },
    {
      "cell_type": "code",
      "source": [
        "type(a1), type(a2), type(a3)"
      ],
      "metadata": {
        "colab": {
          "base_uri": "https://localhost:8080/"
        },
        "id": "NEXPIJzzhf2H",
        "outputId": "f80111fa-0c5e-4884-c49f-9119e4f0c2c2"
      },
      "execution_count": 11,
      "outputs": [
        {
          "output_type": "execute_result",
          "data": {
            "text/plain": [
              "(numpy.ndarray, numpy.ndarray, numpy.ndarray)"
            ]
          },
          "metadata": {},
          "execution_count": 11
        }
      ]
    },
    {
      "cell_type": "markdown",
      "source": [
        "# **1. Create a DataFrame from NumPy array**"
      ],
      "metadata": {
        "id": "PNNT2wRZhgD1"
      }
    },
    {
      "cell_type": "code",
      "source": [
        "import pandas as pd"
      ],
      "metadata": {
        "id": "QW-9WdCbhltc"
      },
      "execution_count": 12,
      "outputs": []
    },
    {
      "cell_type": "code",
      "source": [
        "df = pd.DataFrame(a2)\n",
        "df"
      ],
      "metadata": {
        "colab": {
          "base_uri": "https://localhost:8080/",
          "height": 112
        },
        "id": "n8ZpX6-Sh4yq",
        "outputId": "d387ce78-4df4-4f0e-82db-c6345d170088"
      },
      "execution_count": 13,
      "outputs": [
        {
          "output_type": "execute_result",
          "data": {
            "text/plain": [
              "     0    1    2\n",
              "0  1.0  2.0  3.0\n",
              "1  6.0  2.0  3.0"
            ],
            "text/html": [
              "\n",
              "  <div id=\"df-79364c05-90dc-4de9-a742-4531ea1e561a\" class=\"colab-df-container\">\n",
              "    <div>\n",
              "<style scoped>\n",
              "    .dataframe tbody tr th:only-of-type {\n",
              "        vertical-align: middle;\n",
              "    }\n",
              "\n",
              "    .dataframe tbody tr th {\n",
              "        vertical-align: top;\n",
              "    }\n",
              "\n",
              "    .dataframe thead th {\n",
              "        text-align: right;\n",
              "    }\n",
              "</style>\n",
              "<table border=\"1\" class=\"dataframe\">\n",
              "  <thead>\n",
              "    <tr style=\"text-align: right;\">\n",
              "      <th></th>\n",
              "      <th>0</th>\n",
              "      <th>1</th>\n",
              "      <th>2</th>\n",
              "    </tr>\n",
              "  </thead>\n",
              "  <tbody>\n",
              "    <tr>\n",
              "      <th>0</th>\n",
              "      <td>1.0</td>\n",
              "      <td>2.0</td>\n",
              "      <td>3.0</td>\n",
              "    </tr>\n",
              "    <tr>\n",
              "      <th>1</th>\n",
              "      <td>6.0</td>\n",
              "      <td>2.0</td>\n",
              "      <td>3.0</td>\n",
              "    </tr>\n",
              "  </tbody>\n",
              "</table>\n",
              "</div>\n",
              "    <div class=\"colab-df-buttons\">\n",
              "\n",
              "  <div class=\"colab-df-container\">\n",
              "    <button class=\"colab-df-convert\" onclick=\"convertToInteractive('df-79364c05-90dc-4de9-a742-4531ea1e561a')\"\n",
              "            title=\"Convert this dataframe to an interactive table.\"\n",
              "            style=\"display:none;\">\n",
              "\n",
              "  <svg xmlns=\"http://www.w3.org/2000/svg\" height=\"24px\" viewBox=\"0 -960 960 960\">\n",
              "    <path d=\"M120-120v-720h720v720H120Zm60-500h600v-160H180v160Zm220 220h160v-160H400v160Zm0 220h160v-160H400v160ZM180-400h160v-160H180v160Zm440 0h160v-160H620v160ZM180-180h160v-160H180v160Zm440 0h160v-160H620v160Z\"/>\n",
              "  </svg>\n",
              "    </button>\n",
              "\n",
              "  <style>\n",
              "    .colab-df-container {\n",
              "      display:flex;\n",
              "      gap: 12px;\n",
              "    }\n",
              "\n",
              "    .colab-df-convert {\n",
              "      background-color: #E8F0FE;\n",
              "      border: none;\n",
              "      border-radius: 50%;\n",
              "      cursor: pointer;\n",
              "      display: none;\n",
              "      fill: #1967D2;\n",
              "      height: 32px;\n",
              "      padding: 0 0 0 0;\n",
              "      width: 32px;\n",
              "    }\n",
              "\n",
              "    .colab-df-convert:hover {\n",
              "      background-color: #E2EBFA;\n",
              "      box-shadow: 0px 1px 2px rgba(60, 64, 67, 0.3), 0px 1px 3px 1px rgba(60, 64, 67, 0.15);\n",
              "      fill: #174EA6;\n",
              "    }\n",
              "\n",
              "    .colab-df-buttons div {\n",
              "      margin-bottom: 4px;\n",
              "    }\n",
              "\n",
              "    [theme=dark] .colab-df-convert {\n",
              "      background-color: #3B4455;\n",
              "      fill: #D2E3FC;\n",
              "    }\n",
              "\n",
              "    [theme=dark] .colab-df-convert:hover {\n",
              "      background-color: #434B5C;\n",
              "      box-shadow: 0px 1px 3px 1px rgba(0, 0, 0, 0.15);\n",
              "      filter: drop-shadow(0px 1px 2px rgba(0, 0, 0, 0.3));\n",
              "      fill: #FFFFFF;\n",
              "    }\n",
              "  </style>\n",
              "\n",
              "    <script>\n",
              "      const buttonEl =\n",
              "        document.querySelector('#df-79364c05-90dc-4de9-a742-4531ea1e561a button.colab-df-convert');\n",
              "      buttonEl.style.display =\n",
              "        google.colab.kernel.accessAllowed ? 'block' : 'none';\n",
              "\n",
              "      async function convertToInteractive(key) {\n",
              "        const element = document.querySelector('#df-79364c05-90dc-4de9-a742-4531ea1e561a');\n",
              "        const dataTable =\n",
              "          await google.colab.kernel.invokeFunction('convertToInteractive',\n",
              "                                                    [key], {});\n",
              "        if (!dataTable) return;\n",
              "\n",
              "        const docLinkHtml = 'Like what you see? Visit the ' +\n",
              "          '<a target=\"_blank\" href=https://colab.research.google.com/notebooks/data_table.ipynb>data table notebook</a>'\n",
              "          + ' to learn more about interactive tables.';\n",
              "        element.innerHTML = '';\n",
              "        dataTable['output_type'] = 'display_data';\n",
              "        await google.colab.output.renderOutput(dataTable, element);\n",
              "        const docLink = document.createElement('div');\n",
              "        docLink.innerHTML = docLinkHtml;\n",
              "        element.appendChild(docLink);\n",
              "      }\n",
              "    </script>\n",
              "  </div>\n",
              "\n",
              "\n",
              "<div id=\"df-ada790ce-1e6c-4e2e-801a-e9a60647ca7c\">\n",
              "  <button class=\"colab-df-quickchart\" onclick=\"quickchart('df-ada790ce-1e6c-4e2e-801a-e9a60647ca7c')\"\n",
              "            title=\"Suggest charts.\"\n",
              "            style=\"display:none;\">\n",
              "\n",
              "<svg xmlns=\"http://www.w3.org/2000/svg\" height=\"24px\"viewBox=\"0 0 24 24\"\n",
              "     width=\"24px\">\n",
              "    <g>\n",
              "        <path d=\"M19 3H5c-1.1 0-2 .9-2 2v14c0 1.1.9 2 2 2h14c1.1 0 2-.9 2-2V5c0-1.1-.9-2-2-2zM9 17H7v-7h2v7zm4 0h-2V7h2v10zm4 0h-2v-4h2v4z\"/>\n",
              "    </g>\n",
              "</svg>\n",
              "  </button>\n",
              "\n",
              "<style>\n",
              "  .colab-df-quickchart {\n",
              "      --bg-color: #E8F0FE;\n",
              "      --fill-color: #1967D2;\n",
              "      --hover-bg-color: #E2EBFA;\n",
              "      --hover-fill-color: #174EA6;\n",
              "      --disabled-fill-color: #AAA;\n",
              "      --disabled-bg-color: #DDD;\n",
              "  }\n",
              "\n",
              "  [theme=dark] .colab-df-quickchart {\n",
              "      --bg-color: #3B4455;\n",
              "      --fill-color: #D2E3FC;\n",
              "      --hover-bg-color: #434B5C;\n",
              "      --hover-fill-color: #FFFFFF;\n",
              "      --disabled-bg-color: #3B4455;\n",
              "      --disabled-fill-color: #666;\n",
              "  }\n",
              "\n",
              "  .colab-df-quickchart {\n",
              "    background-color: var(--bg-color);\n",
              "    border: none;\n",
              "    border-radius: 50%;\n",
              "    cursor: pointer;\n",
              "    display: none;\n",
              "    fill: var(--fill-color);\n",
              "    height: 32px;\n",
              "    padding: 0;\n",
              "    width: 32px;\n",
              "  }\n",
              "\n",
              "  .colab-df-quickchart:hover {\n",
              "    background-color: var(--hover-bg-color);\n",
              "    box-shadow: 0 1px 2px rgba(60, 64, 67, 0.3), 0 1px 3px 1px rgba(60, 64, 67, 0.15);\n",
              "    fill: var(--button-hover-fill-color);\n",
              "  }\n",
              "\n",
              "  .colab-df-quickchart-complete:disabled,\n",
              "  .colab-df-quickchart-complete:disabled:hover {\n",
              "    background-color: var(--disabled-bg-color);\n",
              "    fill: var(--disabled-fill-color);\n",
              "    box-shadow: none;\n",
              "  }\n",
              "\n",
              "  .colab-df-spinner {\n",
              "    border: 2px solid var(--fill-color);\n",
              "    border-color: transparent;\n",
              "    border-bottom-color: var(--fill-color);\n",
              "    animation:\n",
              "      spin 1s steps(1) infinite;\n",
              "  }\n",
              "\n",
              "  @keyframes spin {\n",
              "    0% {\n",
              "      border-color: transparent;\n",
              "      border-bottom-color: var(--fill-color);\n",
              "      border-left-color: var(--fill-color);\n",
              "    }\n",
              "    20% {\n",
              "      border-color: transparent;\n",
              "      border-left-color: var(--fill-color);\n",
              "      border-top-color: var(--fill-color);\n",
              "    }\n",
              "    30% {\n",
              "      border-color: transparent;\n",
              "      border-left-color: var(--fill-color);\n",
              "      border-top-color: var(--fill-color);\n",
              "      border-right-color: var(--fill-color);\n",
              "    }\n",
              "    40% {\n",
              "      border-color: transparent;\n",
              "      border-right-color: var(--fill-color);\n",
              "      border-top-color: var(--fill-color);\n",
              "    }\n",
              "    60% {\n",
              "      border-color: transparent;\n",
              "      border-right-color: var(--fill-color);\n",
              "    }\n",
              "    80% {\n",
              "      border-color: transparent;\n",
              "      border-right-color: var(--fill-color);\n",
              "      border-bottom-color: var(--fill-color);\n",
              "    }\n",
              "    90% {\n",
              "      border-color: transparent;\n",
              "      border-bottom-color: var(--fill-color);\n",
              "    }\n",
              "  }\n",
              "</style>\n",
              "\n",
              "  <script>\n",
              "    async function quickchart(key) {\n",
              "      const quickchartButtonEl =\n",
              "        document.querySelector('#' + key + ' button');\n",
              "      quickchartButtonEl.disabled = true;  // To prevent multiple clicks.\n",
              "      quickchartButtonEl.classList.add('colab-df-spinner');\n",
              "      try {\n",
              "        const charts = await google.colab.kernel.invokeFunction(\n",
              "            'suggestCharts', [key], {});\n",
              "      } catch (error) {\n",
              "        console.error('Error during call to suggestCharts:', error);\n",
              "      }\n",
              "      quickchartButtonEl.classList.remove('colab-df-spinner');\n",
              "      quickchartButtonEl.classList.add('colab-df-quickchart-complete');\n",
              "    }\n",
              "    (() => {\n",
              "      let quickchartButtonEl =\n",
              "        document.querySelector('#df-ada790ce-1e6c-4e2e-801a-e9a60647ca7c button');\n",
              "      quickchartButtonEl.style.display =\n",
              "        google.colab.kernel.accessAllowed ? 'block' : 'none';\n",
              "    })();\n",
              "  </script>\n",
              "</div>\n",
              "    </div>\n",
              "  </div>\n"
            ]
          },
          "metadata": {},
          "execution_count": 13
        }
      ]
    },
    {
      "cell_type": "markdown",
      "source": [
        "# **2. Creating Arrays**"
      ],
      "metadata": {
        "id": "JIXyLfQEh5Kg"
      }
    },
    {
      "cell_type": "code",
      "source": [
        "sample_array = np.array([1, 2, 3])\n",
        "sample_array"
      ],
      "metadata": {
        "colab": {
          "base_uri": "https://localhost:8080/"
        },
        "id": "D1pFg34lnNJP",
        "outputId": "8f498a0b-635d-4f7f-8b20-1388403bc616"
      },
      "execution_count": 14,
      "outputs": [
        {
          "output_type": "execute_result",
          "data": {
            "text/plain": [
              "array([1, 2, 3])"
            ]
          },
          "metadata": {},
          "execution_count": 14
        }
      ]
    },
    {
      "cell_type": "code",
      "source": [
        "sample_array.dtype"
      ],
      "metadata": {
        "colab": {
          "base_uri": "https://localhost:8080/"
        },
        "id": "XLYYCouDnSAe",
        "outputId": "54e6a17b-4621-49f2-a0b5-2e2fcc7ee804"
      },
      "execution_count": 15,
      "outputs": [
        {
          "output_type": "execute_result",
          "data": {
            "text/plain": [
              "dtype('int64')"
            ]
          },
          "metadata": {},
          "execution_count": 15
        }
      ]
    },
    {
      "cell_type": "code",
      "source": [
        "ones = np.ones((2, 3))\n",
        "ones"
      ],
      "metadata": {
        "colab": {
          "base_uri": "https://localhost:8080/"
        },
        "id": "lNbcm8wknT67",
        "outputId": "f2c7d28b-2ae3-4ac4-8aaf-59e92d99eca8"
      },
      "execution_count": 16,
      "outputs": [
        {
          "output_type": "execute_result",
          "data": {
            "text/plain": [
              "array([[1., 1., 1.],\n",
              "       [1., 1., 1.]])"
            ]
          },
          "metadata": {},
          "execution_count": 16
        }
      ]
    },
    {
      "cell_type": "code",
      "source": [
        "ones.dtype"
      ],
      "metadata": {
        "colab": {
          "base_uri": "https://localhost:8080/"
        },
        "id": "HnM6R1xZneyI",
        "outputId": "b76c1b02-06db-4223-cc97-23522e701324"
      },
      "execution_count": 17,
      "outputs": [
        {
          "output_type": "execute_result",
          "data": {
            "text/plain": [
              "dtype('float64')"
            ]
          },
          "metadata": {},
          "execution_count": 17
        }
      ]
    },
    {
      "cell_type": "code",
      "source": [
        "type(ones)"
      ],
      "metadata": {
        "colab": {
          "base_uri": "https://localhost:8080/"
        },
        "id": "MVmnMSNHnpZb",
        "outputId": "337fb2f3-2f5b-4431-9f3f-751d03f7b74f"
      },
      "execution_count": 18,
      "outputs": [
        {
          "output_type": "execute_result",
          "data": {
            "text/plain": [
              "numpy.ndarray"
            ]
          },
          "metadata": {},
          "execution_count": 18
        }
      ]
    },
    {
      "cell_type": "code",
      "source": [
        "zeros = np.zeros((2, 5))\n",
        "zeros"
      ],
      "metadata": {
        "colab": {
          "base_uri": "https://localhost:8080/"
        },
        "id": "F1WNpbarn0SK",
        "outputId": "1ebafffb-81c8-4b12-baa1-b4fbf8c40e35"
      },
      "execution_count": 19,
      "outputs": [
        {
          "output_type": "execute_result",
          "data": {
            "text/plain": [
              "array([[0., 0., 0., 0., 0.],\n",
              "       [0., 0., 0., 0., 0.]])"
            ]
          },
          "metadata": {},
          "execution_count": 19
        }
      ]
    },
    {
      "cell_type": "code",
      "source": [
        "range_array = np.arange(0, 10, 2)\n",
        "range_array"
      ],
      "metadata": {
        "colab": {
          "base_uri": "https://localhost:8080/"
        },
        "id": "e0Vm7hpcoASX",
        "outputId": "066d7971-2acc-4237-889d-1d5c89d7feba"
      },
      "execution_count": 20,
      "outputs": [
        {
          "output_type": "execute_result",
          "data": {
            "text/plain": [
              "array([0, 2, 4, 6, 8])"
            ]
          },
          "metadata": {},
          "execution_count": 20
        }
      ]
    },
    {
      "cell_type": "code",
      "source": [
        "random_array = np.random.randint(0, 10, size=(3, 5))\n",
        "random_array"
      ],
      "metadata": {
        "colab": {
          "base_uri": "https://localhost:8080/"
        },
        "id": "7oChMIrhoSAr",
        "outputId": "5cffd106-2424-4ef3-8f73-cdc5d1131c6f"
      },
      "execution_count": 21,
      "outputs": [
        {
          "output_type": "execute_result",
          "data": {
            "text/plain": [
              "array([[7, 4, 6, 8, 7],\n",
              "       [5, 9, 8, 6, 7],\n",
              "       [4, 2, 9, 6, 8]])"
            ]
          },
          "metadata": {},
          "execution_count": 21
        }
      ]
    },
    {
      "cell_type": "code",
      "source": [
        "random_array.size"
      ],
      "metadata": {
        "colab": {
          "base_uri": "https://localhost:8080/"
        },
        "id": "0sfWbHOLoUC2",
        "outputId": "dda478fb-2df5-4d89-a27a-1a56c5813b3d"
      },
      "execution_count": 22,
      "outputs": [
        {
          "output_type": "execute_result",
          "data": {
            "text/plain": [
              "15"
            ]
          },
          "metadata": {},
          "execution_count": 22
        }
      ]
    },
    {
      "cell_type": "code",
      "source": [
        "random_array_2 = np.random.random((7, 3))\n",
        "random_array_2"
      ],
      "metadata": {
        "id": "qmPxgEsdpL5p",
        "colab": {
          "base_uri": "https://localhost:8080/"
        },
        "outputId": "b7d91ad1-9228-4310-e66b-39334678d80f"
      },
      "execution_count": 23,
      "outputs": [
        {
          "output_type": "execute_result",
          "data": {
            "text/plain": [
              "array([[0.29962603, 0.20812708, 0.76312136],\n",
              "       [0.9323746 , 0.1643746 , 0.11954398],\n",
              "       [0.50624694, 0.15963748, 0.03154242],\n",
              "       [0.87600889, 0.97195647, 0.31067823],\n",
              "       [0.78527239, 0.80055906, 0.6058978 ],\n",
              "       [0.23327967, 0.99184731, 0.67338964],\n",
              "       [0.98957873, 0.67681881, 0.42902485]])"
            ]
          },
          "metadata": {},
          "execution_count": 23
        }
      ]
    },
    {
      "cell_type": "code",
      "source": [
        "random_array_2.shape"
      ],
      "metadata": {
        "colab": {
          "base_uri": "https://localhost:8080/"
        },
        "id": "9B3bm0NNpR4P",
        "outputId": "d341a9b7-751c-4d1d-b0b9-66f63bc54ce3"
      },
      "execution_count": 24,
      "outputs": [
        {
          "output_type": "execute_result",
          "data": {
            "text/plain": [
              "(7, 3)"
            ]
          },
          "metadata": {},
          "execution_count": 24
        }
      ]
    },
    {
      "cell_type": "code",
      "source": [
        "random_array_3 = np.random.rand(7, 3)\n",
        "random_array_3"
      ],
      "metadata": {
        "id": "eevka7pQpV2c",
        "colab": {
          "base_uri": "https://localhost:8080/"
        },
        "outputId": "605e8d36-d225-4d7f-bf89-424a20d6b1cd"
      },
      "execution_count": 25,
      "outputs": [
        {
          "output_type": "execute_result",
          "data": {
            "text/plain": [
              "array([[0.27466525, 0.18668293, 0.43441117],\n",
              "       [0.36799535, 0.13639629, 0.33081546],\n",
              "       [0.49268887, 0.55796163, 0.76587767],\n",
              "       [0.2316246 , 0.49432746, 0.66495137],\n",
              "       [0.48705043, 0.57862432, 0.21437498],\n",
              "       [0.46413909, 0.49992575, 0.20756953],\n",
              "       [0.13440214, 0.71461931, 0.26468005]])"
            ]
          },
          "metadata": {},
          "execution_count": 25
        }
      ]
    },
    {
      "cell_type": "markdown",
      "source": [
        "# **Pseduo-random numbers**\n",
        "\n",
        "Allows us to generate random numbers **that are reproducable**\n",
        "\n",
        "np.random.seed(0)"
      ],
      "metadata": {
        "id": "kmTe00x7prjX"
      }
    },
    {
      "cell_type": "code",
      "source": [
        "np.random.seed(0)\n",
        "random_array_4 = np.random.randint(10, size=(5, 3))\n",
        "random_array_4"
      ],
      "metadata": {
        "colab": {
          "base_uri": "https://localhost:8080/"
        },
        "id": "YPoKsndXpnBD",
        "outputId": "fe73ae67-12cc-438e-d071-8097a3adab97"
      },
      "execution_count": 26,
      "outputs": [
        {
          "output_type": "execute_result",
          "data": {
            "text/plain": [
              "array([[5, 0, 3],\n",
              "       [3, 7, 9],\n",
              "       [3, 5, 2],\n",
              "       [4, 7, 6],\n",
              "       [8, 8, 1]])"
            ]
          },
          "metadata": {},
          "execution_count": 26
        }
      ]
    },
    {
      "cell_type": "code",
      "source": [
        "random_array_4.shape"
      ],
      "metadata": {
        "colab": {
          "base_uri": "https://localhost:8080/"
        },
        "id": "iaDqxfVsVp7N",
        "outputId": "cdc4d148-6763-4055-f07a-3b77e758e1bd"
      },
      "execution_count": 27,
      "outputs": [
        {
          "output_type": "execute_result",
          "data": {
            "text/plain": [
              "(5, 3)"
            ]
          },
          "metadata": {},
          "execution_count": 27
        }
      ]
    },
    {
      "cell_type": "code",
      "source": [
        "np.random.seed(534534)\n",
        "random_array_5 = np.random.random((7, 3))\n",
        "random_array_5"
      ],
      "metadata": {
        "colab": {
          "base_uri": "https://localhost:8080/"
        },
        "id": "si3Rv4Q7WHeq",
        "outputId": "2dc233f2-1bc5-4a97-d1b3-1fb3d6ef1b4b"
      },
      "execution_count": 28,
      "outputs": [
        {
          "output_type": "execute_result",
          "data": {
            "text/plain": [
              "array([[0.88328013, 0.51795149, 0.51175374],\n",
              "       [0.87606269, 0.6723228 , 0.05636686],\n",
              "       [0.97618157, 0.25876553, 0.05352877],\n",
              "       [0.3595396 , 0.61136744, 0.52753095],\n",
              "       [0.46623891, 0.04640886, 0.85615742],\n",
              "       [0.76264365, 0.377411  , 0.8633925 ],\n",
              "       [0.26916801, 0.60579248, 0.91275654]])"
            ]
          },
          "metadata": {},
          "execution_count": 28
        }
      ]
    },
    {
      "cell_type": "markdown",
      "source": [
        "# **2. Viweing Arrays & Matrices**"
      ],
      "metadata": {
        "id": "B1BCF2tCWy3S"
      }
    },
    {
      "cell_type": "code",
      "source": [
        "np.unique(random_array_4)"
      ],
      "metadata": {
        "colab": {
          "base_uri": "https://localhost:8080/"
        },
        "id": "nRl2818GW1yG",
        "outputId": "e669ba6f-1c56-4a1a-9cca-1d7a6e6d7e5f"
      },
      "execution_count": 29,
      "outputs": [
        {
          "output_type": "execute_result",
          "data": {
            "text/plain": [
              "array([0, 1, 2, 3, 4, 5, 6, 7, 8, 9])"
            ]
          },
          "metadata": {},
          "execution_count": 29
        }
      ]
    },
    {
      "cell_type": "code",
      "source": [
        "a1[0]"
      ],
      "metadata": {
        "colab": {
          "base_uri": "https://localhost:8080/"
        },
        "id": "KJP5_Zg5XhLN",
        "outputId": "0e980811-66cc-4142-dcaf-407aa5ea2f72"
      },
      "execution_count": 30,
      "outputs": [
        {
          "output_type": "execute_result",
          "data": {
            "text/plain": [
              "1"
            ]
          },
          "metadata": {},
          "execution_count": 30
        }
      ]
    },
    {
      "cell_type": "code",
      "source": [
        "a2[0][1]"
      ],
      "metadata": {
        "colab": {
          "base_uri": "https://localhost:8080/"
        },
        "id": "Gf_nf00WXpIm",
        "outputId": "2b4ded2b-6bc6-46fa-e928-240946b13e99"
      },
      "execution_count": 31,
      "outputs": [
        {
          "output_type": "execute_result",
          "data": {
            "text/plain": [
              "2.0"
            ]
          },
          "metadata": {},
          "execution_count": 31
        }
      ]
    },
    {
      "cell_type": "markdown",
      "source": [
        "**First 2 values of every item**"
      ],
      "metadata": {
        "id": "b7L9VFTgiclQ"
      }
    },
    {
      "cell_type": "code",
      "source": [
        "a3[:2, :2, :2]"
      ],
      "metadata": {
        "colab": {
          "base_uri": "https://localhost:8080/"
        },
        "id": "hkf5QwVVigoW",
        "outputId": "17fb0fff-39d9-4d6a-df15-1e0170bd1503"
      },
      "execution_count": 32,
      "outputs": [
        {
          "output_type": "execute_result",
          "data": {
            "text/plain": [
              "array([[[ 1,  2],\n",
              "        [ 4,  5]],\n",
              "\n",
              "       [[ 7,  8],\n",
              "        [10, 11]]])"
            ]
          },
          "metadata": {},
          "execution_count": 32
        }
      ]
    },
    {
      "cell_type": "code",
      "source": [
        "a4 = np.random.randint(10, size=(2, 3, 4, 5))\n",
        "a4"
      ],
      "metadata": {
        "colab": {
          "base_uri": "https://localhost:8080/"
        },
        "id": "TTUA7nJVi1BM",
        "outputId": "3baa8dc0-6f88-40b6-c869-aac559db0fe2"
      },
      "execution_count": 33,
      "outputs": [
        {
          "output_type": "execute_result",
          "data": {
            "text/plain": [
              "array([[[[3, 5, 3, 2, 6],\n",
              "         [7, 7, 7, 7, 9],\n",
              "         [3, 4, 8, 5, 8],\n",
              "         [1, 2, 8, 5, 1]],\n",
              "\n",
              "        [[3, 2, 8, 4, 0],\n",
              "         [1, 8, 2, 9, 3],\n",
              "         [1, 9, 8, 4, 3],\n",
              "         [3, 4, 1, 6, 4]],\n",
              "\n",
              "        [[7, 9, 8, 2, 9],\n",
              "         [2, 4, 7, 0, 9],\n",
              "         [0, 3, 1, 4, 8],\n",
              "         [0, 9, 3, 0, 4]]],\n",
              "\n",
              "\n",
              "       [[[0, 2, 5, 2, 7],\n",
              "         [2, 1, 4, 6, 4],\n",
              "         [5, 1, 5, 6, 1],\n",
              "         [6, 0, 1, 9, 2]],\n",
              "\n",
              "        [[8, 4, 8, 7, 6],\n",
              "         [6, 6, 5, 1, 0],\n",
              "         [8, 1, 5, 2, 5],\n",
              "         [4, 9, 8, 7, 2]],\n",
              "\n",
              "        [[9, 6, 7, 9, 6],\n",
              "         [6, 2, 2, 2, 7],\n",
              "         [8, 9, 4, 3, 6],\n",
              "         [1, 9, 2, 3, 4]]]])"
            ]
          },
          "metadata": {},
          "execution_count": 33
        }
      ]
    },
    {
      "cell_type": "code",
      "source": [
        "a4[:2, :2, :2, :2]"
      ],
      "metadata": {
        "colab": {
          "base_uri": "https://localhost:8080/"
        },
        "id": "JdJn73eWi5V6",
        "outputId": "71556a3c-ca1c-4cba-faca-6359bec2c97b"
      },
      "execution_count": 34,
      "outputs": [
        {
          "output_type": "execute_result",
          "data": {
            "text/plain": [
              "array([[[[3, 5],\n",
              "         [7, 7]],\n",
              "\n",
              "        [[3, 2],\n",
              "         [1, 8]]],\n",
              "\n",
              "\n",
              "       [[[0, 2],\n",
              "         [2, 1]],\n",
              "\n",
              "        [[8, 4],\n",
              "         [6, 6]]]])"
            ]
          },
          "metadata": {},
          "execution_count": 34
        }
      ]
    },
    {
      "cell_type": "code",
      "source": [
        "a4.shape, a4.ndim"
      ],
      "metadata": {
        "colab": {
          "base_uri": "https://localhost:8080/"
        },
        "id": "lUTyOmSajRRu",
        "outputId": "b8ae4a7e-26ed-40a6-bdfd-29086aed5d0f"
      },
      "execution_count": 35,
      "outputs": [
        {
          "output_type": "execute_result",
          "data": {
            "text/plain": [
              "((2, 3, 4, 5), 4)"
            ]
          },
          "metadata": {},
          "execution_count": 35
        }
      ]
    },
    {
      "cell_type": "code",
      "source": [
        "a4[:1, :1, :1, :4]"
      ],
      "metadata": {
        "id": "YngR-Iu6jzuB",
        "outputId": "96304e78-57f7-4035-c48d-7326389d26ca",
        "colab": {
          "base_uri": "https://localhost:8080/"
        }
      },
      "execution_count": 36,
      "outputs": [
        {
          "output_type": "execute_result",
          "data": {
            "text/plain": [
              "array([[[[3, 5, 3, 2]]]])"
            ]
          },
          "metadata": {},
          "execution_count": 36
        }
      ]
    },
    {
      "cell_type": "code",
      "source": [
        "a4[:, :, :, :4]"
      ],
      "metadata": {
        "colab": {
          "base_uri": "https://localhost:8080/"
        },
        "id": "UlhgoDSojTHg",
        "outputId": "9caf8557-9c7e-4176-bebb-7191dfa45d4b"
      },
      "execution_count": 37,
      "outputs": [
        {
          "output_type": "execute_result",
          "data": {
            "text/plain": [
              "array([[[[3, 5, 3, 2],\n",
              "         [7, 7, 7, 7],\n",
              "         [3, 4, 8, 5],\n",
              "         [1, 2, 8, 5]],\n",
              "\n",
              "        [[3, 2, 8, 4],\n",
              "         [1, 8, 2, 9],\n",
              "         [1, 9, 8, 4],\n",
              "         [3, 4, 1, 6]],\n",
              "\n",
              "        [[7, 9, 8, 2],\n",
              "         [2, 4, 7, 0],\n",
              "         [0, 3, 1, 4],\n",
              "         [0, 9, 3, 0]]],\n",
              "\n",
              "\n",
              "       [[[0, 2, 5, 2],\n",
              "         [2, 1, 4, 6],\n",
              "         [5, 1, 5, 6],\n",
              "         [6, 0, 1, 9]],\n",
              "\n",
              "        [[8, 4, 8, 7],\n",
              "         [6, 6, 5, 1],\n",
              "         [8, 1, 5, 2],\n",
              "         [4, 9, 8, 7]],\n",
              "\n",
              "        [[9, 6, 7, 9],\n",
              "         [6, 2, 2, 2],\n",
              "         [8, 9, 4, 3],\n",
              "         [1, 9, 2, 3]]]])"
            ]
          },
          "metadata": {},
          "execution_count": 37
        }
      ]
    }
  ]
}